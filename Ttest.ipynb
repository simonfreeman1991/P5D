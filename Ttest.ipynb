{
 "cells": [
  {
   "cell_type": "code",
   "execution_count": 74,
   "id": "3b44673d",
   "metadata": {},
   "outputs": [],
   "source": [
    "import pandas as pd\n",
    "import numpy as np\n",
    "from scipy import stats\n",
    "\n",
    "def check_sig(sig_level, p_value):\n",
    "    if p_value > sig_level:\n",
    "        to_ret = 'The result is insignificant as ' + str(round(p_value)) + ' is greater than ' + str(sig_level)\n",
    "    else:\n",
    "        to_ret = 'The result is significant as ' + str(round(p_value)) + ' is smaller than ' + str(sig_level)\n",
    "    return to_ret"
   ]
  },
  {
   "cell_type": "code",
   "execution_count": 3,
   "id": "6ca23d01",
   "metadata": {},
   "outputs": [],
   "source": [
    "df = pd.read_csv('BQ_extract.csv')"
   ]
  },
  {
   "cell_type": "code",
   "execution_count": 5,
   "id": "8d1205ce",
   "metadata": {},
   "outputs": [],
   "source": [
    "trans_amounts = df.dropna()"
   ]
  },
  {
   "cell_type": "code",
   "execution_count": 49,
   "id": "5163c769",
   "metadata": {},
   "outputs": [
    {
     "name": "stdout",
     "output_type": "stream",
     "text": [
      "In the old classification the average transaction amount was 32.0 whilst by putting the paywall before the demo means transaction amounts of 30.0 and putting it after the demo means an average transaction amount of 29.0\n"
     ]
    }
   ],
   "source": [
    "p1 = trans_amounts[trans_amounts['product']=='p1']\n",
    "p2 = trans_amounts[trans_amounts['product']=='p2']\n",
    "\n",
    "p1_old = p1[p1['abtest_group']=='old']\n",
    "p1_post = p1[p1['abtest_group']=='paywall_after_demo']\n",
    "p1_pre = p1[p1['abtest_group']=='paywall_before_demo']\n",
    "\n",
    "old_trans_amount = round(p1_old['trans_amount'].mean(),0)\n",
    "post_trans_amount = round(p1_post['trans_amount'].mean(),0)\n",
    "pre_trans_amount = round(p1_pre['trans_amount'].mean(),0)\n",
    "\n",
    "text = 'In the old classification the average transaction amount was ' + str(old_trans_amount) + ' whilst by putting the paywall before the demo means transaction amounts of ' +str(pre_trans_amount) + ' and putting it after the demo means an average transaction amount of ' + str(post_trans_amount)\n",
    "print(text)"
   ]
  },
  {
   "cell_type": "code",
   "execution_count": 29,
   "id": "2c883fc4",
   "metadata": {},
   "outputs": [],
   "source": [
    "significance_level = 0.05\n",
    "\n",
    "old_post_t, old_post_p = stats.ttest_ind(a=p1_old['trans_amount'], b=p1_post['trans_amount'], alternative='less', equal_var=False)\n",
    "old_pre_t, old_pre_p = stats.ttest_ind(a=p1_old['trans_amount'], b=p1_pre['trans_amount'], alternative='less', equal_var=False)\n",
    "pre_post_t, pre_post_p = stats.ttest_ind(a=p1_pre['trans_amount'], b=p1_post['trans_amount'], alternative='less', equal_var=False)"
   ]
  },
  {
   "cell_type": "code",
   "execution_count": 77,
   "id": "6a37aea8",
   "metadata": {},
   "outputs": [],
   "source": [
    "\n",
    "old_post_text = 'Looking at the p-values comparing the old situation with post demo paywall is ' + str(round(old_post_p,2))\n",
    "old_post_text = old_post_text + '. ' + check_sig(significance_level, old_post_p)\n",
    "old_pre_text = 'Looking at the p-values comparing the old situation with pre demo paywall is ' + str(round(old_pre_p,2))\n",
    "old_pre_text = old_pre_text + '. ' + check_sig(significance_level, old_pre_p)\n",
    "pre_post_text = 'Looking at the p-values comparing the pre and post demo paywall is ' + str(round(pre_post_p,2))\n",
    "pre_post_text = pre_post_text + '. ' + check_sig(significance_level, pre_post_p)"
   ]
  },
  {
   "cell_type": "code",
   "execution_count": 78,
   "id": "c0591a11",
   "metadata": {},
   "outputs": [
    {
     "name": "stdout",
     "output_type": "stream",
     "text": [
      "Looking at the p-values comparing the old situation with post demo paywall is 0.64. The result is insignificant as 1 is greater than 0.05\n",
      "Looking at the p-values comparing the old situation with pre demo paywall is 0.59. The result is insignificant as 1 is greater than 0.05\n",
      "Looking at the p-values comparing the pre and post demo paywall is 0.54. The result is insignificant as 1 is greater than 0.05\n"
     ]
    }
   ],
   "source": [
    "print(old_post_text)\n",
    "print(old_pre_text)\n",
    "print(pre_post_text)"
   ]
  },
  {
   "cell_type": "code",
   "execution_count": 68,
   "id": "67243f35",
   "metadata": {},
   "outputs": [
    {
     "data": {
      "text/plain": [
       "'Looking at the p-values comparing the pre and post demo paywall is 0.5378117543042757. The result is insignificant as 0.6430497264157118 is greater than 0.05'"
      ]
     },
     "execution_count": 68,
     "metadata": {},
     "output_type": "execute_result"
    }
   ],
   "source": [
    "old_post_text"
   ]
  },
  {
   "cell_type": "code",
   "execution_count": null,
   "id": "2d7613c8",
   "metadata": {},
   "outputs": [],
   "source": []
  }
 ],
 "metadata": {
  "kernelspec": {
   "display_name": "Python 3 (ipykernel)",
   "language": "python",
   "name": "python3"
  },
  "language_info": {
   "codemirror_mode": {
    "name": "ipython",
    "version": 3
   },
   "file_extension": ".py",
   "mimetype": "text/x-python",
   "name": "python",
   "nbconvert_exporter": "python",
   "pygments_lexer": "ipython3",
   "version": "3.11.5"
  }
 },
 "nbformat": 4,
 "nbformat_minor": 5
}
